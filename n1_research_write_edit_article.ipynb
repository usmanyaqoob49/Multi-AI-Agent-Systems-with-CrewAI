{
 "cells": [
  {
   "cell_type": "markdown",
   "metadata": {},
   "source": [
    "# Creating Agents to Research and Write an Article\n",
    "\n",
    "In this lesson, you will be introduced to the foundational concepts of multi-agent systems and get an overview of the crewAI framework."
   ]
  },
  {
   "cell_type": "markdown",
   "metadata": {},
   "source": [
    "The libraries are already installed in the classroom. If you're running this notebook on your own machine, you can install the following:\n",
    "```Python\n",
    "!pip install crewai==0.28.8 crewai_tools==0.1.6 langchain_community==0.0.29\n",
    "```"
   ]
  },
  {
   "cell_type": "code",
   "execution_count": 1,
   "metadata": {
    "height": 64
   },
   "outputs": [],
   "source": [
    "# Warning control\n",
    "import warnings\n",
    "warnings.filterwarnings('ignore')"
   ]
  },
  {
   "cell_type": "markdown",
   "metadata": {},
   "source": [
    "- Import from the crewAI libray."
   ]
  },
  {
   "cell_type": "code",
   "execution_count": 2,
   "metadata": {
    "height": 30
   },
   "outputs": [],
   "source": [
    "from crewai import Agent, Task, Crew"
   ]
  },
  {
   "cell_type": "code",
   "execution_count": 3,
   "metadata": {
    "height": 98
   },
   "outputs": [],
   "source": [
    "import os\n",
    "from utils import get_openai_api_key\n",
    "\n",
    "openai_api_key = get_openai_api_key()\n",
    "os.environ[\"OPENAI_MODEL_NAME\"] = 'gpt-3.5-turbo'"
   ]
  },
  {
   "cell_type": "markdown",
   "metadata": {},
   "source": [
    "## Creating Agents\n",
    "\n",
    "- Define your Agents, and provide them a `role`, `goal` and `backstory`.\n",
    "- It has been seen that LLMs perform better when they are role playing."
   ]
  },
  {
   "cell_type": "markdown",
   "metadata": {},
   "source": [
    "### Agent: Planner\n",
    "\n",
    "**Note**: The benefit of using _multiple strings_ :\n",
    "```Python\n",
    "varname = \"line 1 of text\"\n",
    "          \"line 2 of text\"\n",
    "```\n",
    "\n",
    "versus the _triple quote docstring_:\n",
    "```Python\n",
    "varname = \"\"\"line 1 of text\n",
    "             line 2 of text\n",
    "          \"\"\"\n",
    "```\n",
    "is that it can avoid adding those whitespaces and newline characters, making it better formatted to be passed to the LLM."
   ]
  },
  {
   "cell_type": "code",
   "execution_count": 4,
   "metadata": {
    "height": 302
   },
   "outputs": [],
   "source": [
    "planner = Agent(\n",
    "    role=\"Content Planner\",\n",
    "    goal=\"Plan engaging and factually accurate content on {topic}\",\n",
    "    backstory=\"You're working on planning a blog article \"\n",
    "              \"about the topic: {topic}.\"\n",
    "              \"You collect information that helps the \"\n",
    "              \"audience learn something \"\n",
    "              \"and make informed decisions. \"\n",
    "              \"Your work is the basis for \"\n",
    "              \"the Content Writer to write an article on this topic.\",\n",
    "    \n",
    "    #can it assign task to any other agent\n",
    "    allow_delegation=False,\n",
    "    \n",
    "    #we can see what it is thinking\n",
    "\tverbose=True\n",
    ")"
   ]
  },
  {
   "cell_type": "markdown",
   "metadata": {},
   "source": [
    "### Agent: Writer"
   ]
  },
  {
   "cell_type": "code",
   "execution_count": 5,
   "metadata": {
    "height": 370
   },
   "outputs": [],
   "source": [
    "writer = Agent(\n",
    "    role=\"Content Writer\",\n",
    "    goal=\"Write insightful and factually accurate \"\n",
    "         \"opinion piece about the topic: {topic}\",\n",
    "    backstory=\"You're working on a writing \"\n",
    "              \"a new opinion piece about the topic: {topic}. \"\n",
    "              \"You base your writing on the work of \"\n",
    "              \"the Content Planner, who provides an outline \"\n",
    "              \"and relevant context about the topic. \"\n",
    "              \"You follow the main objectives and \"\n",
    "              \"direction of the outline, \"\n",
    "              \"as provide by the Content Planner. \"\n",
    "              \"You also provide objective and impartial insights \"\n",
    "              \"and back them up with information \"\n",
    "              \"provide by the Content Planner. \"\n",
    "              \"You acknowledge in your opinion piece \"\n",
    "              \"when your statements are opinions \"\n",
    "              \"as opposed to objective statements.\",\n",
    "    allow_delegation=False,\n",
    "    verbose=True\n",
    ")"
   ]
  },
  {
   "cell_type": "markdown",
   "metadata": {},
   "source": [
    "### Agent: Editor"
   ]
  },
  {
   "cell_type": "code",
   "execution_count": 6,
   "metadata": {
    "height": 268
   },
   "outputs": [],
   "source": [
    "editor = Agent(\n",
    "    role=\"Editor\",\n",
    "    goal=\"Edit a given blog post to align with \"\n",
    "         \"the writing style of the organization. \",\n",
    "    backstory=\"You are an editor who receives a blog post \"\n",
    "              \"from the Content Writer. \"\n",
    "              \"Your goal is to review the blog post \"\n",
    "              \"to ensure that it follows journalistic best practices,\"\n",
    "              \"provides balanced viewpoints \"\n",
    "              \"when providing opinions or assertions, \"\n",
    "              \"and also avoids major controversial topics \"\n",
    "              \"or opinions when possible.\",\n",
    "    allow_delegation=False,\n",
    "    verbose=True\n",
    ")"
   ]
  },
  {
   "cell_type": "markdown",
   "metadata": {},
   "source": [
    "## Creating Tasks\n",
    "\n",
    "- Define your Tasks, and provide them a `description`, `expected_output` and `agent`."
   ]
  },
  {
   "cell_type": "markdown",
   "metadata": {},
   "source": [
    "### Task: Plan"
   ]
  },
  {
   "cell_type": "code",
   "execution_count": 7,
   "metadata": {
    "height": 268
   },
   "outputs": [],
   "source": [
    "plan = Task(\n",
    "    description=(\n",
    "        \"1. Prioritize the latest trends, key players, \"\n",
    "            \"and noteworthy news on {topic}.\\n\"\n",
    "        \"2. Identify the target audience, considering \"\n",
    "            \"their interests and pain points.\\n\"\n",
    "        \"3. Develop a detailed content outline including \"\n",
    "            \"an introduction, key points, and a call to action.\\n\"\n",
    "        \"4. Include SEO keywords and relevant data or sources.\"\n",
    "    ),\n",
    "    expected_output=\"A comprehensive content plan document \"\n",
    "        \"with an outline, audience analysis, \"\n",
    "        \"SEO keywords, and resources.\",\n",
    "    agent=planner,\n",
    ")"
   ]
  },
  {
   "cell_type": "markdown",
   "metadata": {},
   "source": [
    "### Task: Write"
   ]
  },
  {
   "cell_type": "code",
   "execution_count": 8,
   "metadata": {
    "height": 319
   },
   "outputs": [],
   "source": [
    "write = Task(\n",
    "    description=(\n",
    "        \"1. Use the content plan to craft a compelling \"\n",
    "            \"blog post on {topic}.\\n\"\n",
    "        \"2. Incorporate SEO keywords naturally.\\n\"\n",
    "\t\t\"3. Sections/Subtitles are properly named \"\n",
    "            \"in an engaging manner.\\n\"\n",
    "        \"4. Ensure the post is structured with an \"\n",
    "            \"engaging introduction, insightful body, \"\n",
    "            \"and a summarizing conclusion.\\n\"\n",
    "        \"5. Proofread for grammatical errors and \"\n",
    "            \"alignment with the brand's voice.\\n\"\n",
    "    ),\n",
    "    expected_output=\"A well-written blog post \"\n",
    "        \"in markdown format, ready for publication, \"\n",
    "        \"each section should have 2 or 3 paragraphs.\",\n",
    "    agent=writer,\n",
    ")"
   ]
  },
  {
   "cell_type": "markdown",
   "metadata": {},
   "source": [
    "### Task: Edit"
   ]
  },
  {
   "cell_type": "code",
   "execution_count": 9,
   "metadata": {
    "height": 166
   },
   "outputs": [],
   "source": [
    "edit = Task(\n",
    "    description=(\"Proofread the given blog post for \"\n",
    "                 \"grammatical errors and \"\n",
    "                 \"alignment with the brand's voice.\"),\n",
    "    expected_output=\"A well-written blog post in markdown format, \"\n",
    "                    \"ready for publication, \"\n",
    "                    \"each section should have 2 or 3 paragraphs.\",\n",
    "    agent=editor\n",
    ")"
   ]
  },
  {
   "cell_type": "markdown",
   "metadata": {},
   "source": [
    "## Creating the Crew\n",
    "\n",
    "- Create your crew of Agents\n",
    "- Pass the tasks to be performed by those agents.\n",
    "    - **Note**: *For this simple example*, the tasks will be performed sequentially (i.e they are dependent on each other), so the _order_ of the task in the list _matters_.\n",
    "- `verbose=2` allows you to see all the logs of the execution. "
   ]
  },
  {
   "cell_type": "code",
   "execution_count": 10,
   "metadata": {
    "height": 98
   },
   "outputs": [],
   "source": [
    "crew = Crew(\n",
    "    agents=[planner, writer, editor],\n",
    "    tasks=[plan, write, edit],\n",
    "    verbose=2\n",
    ")"
   ]
  },
  {
   "cell_type": "markdown",
   "metadata": {},
   "source": [
    "## Running the Crew"
   ]
  },
  {
   "cell_type": "markdown",
   "metadata": {},
   "source": [
    "**Note**: LLMs can provide different outputs for they same input, so what you get might be different than what you see in the video."
   ]
  },
  {
   "cell_type": "code",
   "execution_count": 11,
   "metadata": {
    "height": 30
   },
   "outputs": [
    {
     "name": "stdout",
     "output_type": "stream",
     "text": [
      "\u001b[1m\u001b[95m [DEBUG]: == Working Agent: Content Planner\u001b[00m\n",
      "\u001b[1m\u001b[95m [INFO]: == Starting Task: 1. Prioritize the latest trends, key players, and noteworthy news on Artificial Intelligence.\n",
      "2. Identify the target audience, considering their interests and pain points.\n",
      "3. Develop a detailed content outline including an introduction, key points, and a call to action.\n",
      "4. Include SEO keywords and relevant data or sources.\u001b[00m\n",
      "\n",
      "\n",
      "\u001b[1m> Entering new CrewAgentExecutor chain...\u001b[0m\n",
      "\u001b[32;1m\u001b[1;3mI now can give a great answer\n",
      "\n",
      "Final Answer:\n",
      "Title: The Future of Artificial Intelligence: Latest Trends, Key Players, and Noteworthy News\n",
      "\n",
      "Introduction:\n",
      "Artificial Intelligence (AI) is revolutionizing industries and shaping our future in ways we never thought possible. In this blog article, we will delve into the latest trends, key players, and noteworthy news surrounding AI to provide valuable insights for our audience.\n",
      "\n",
      "Key Points:\n",
      "1. Latest Trends in AI:\n",
      "- Machine Learning: The rapid advancements in machine learning algorithms are driving innovation in AI applications across various sectors.\n",
      "- Natural Language Processing (NLP): NLP technology is enabling machines to understand and generate human language, leading to breakthroughs in chatbots and virtual assistants.\n",
      "- AI Ethics: The ethical implications of AI are gaining more attention, with discussions on bias, privacy, and transparency becoming crucial in AI development.\n",
      "- Autonomous Vehicles: The development of self-driving cars is a hot topic in the AI space, with major players like Tesla, Waymo, and Uber investing heavily in this technology.\n",
      "\n",
      "2. Key Players in AI:\n",
      "- Google: Google's AI research division, DeepMind, is making significant strides in AI research and development.\n",
      "- Amazon: Amazon's AI-powered personal assistant, Alexa, is leading the market in smart home devices.\n",
      "- IBM: IBM's Watson AI platform is revolutionizing industries with its cognitive computing capabilities.\n",
      "\n",
      "3. Noteworthy News in AI:\n",
      "- OpenAI's GPT-3: OpenAI's GPT-3 model has garnered attention for its ability to generate human-like text, raising questions about the future of AI-generated content.\n",
      "- Microsoft's Acquisition of Nuance: Microsoft's recent acquisition of Nuance Communications, a leader in conversational AI, highlights the growing importance of AI in healthcare.\n",
      "\n",
      "Call to Action:\n",
      "Stay informed and engaged with the latest developments in AI by following reputable sources and staying connected with industry leaders. Embrace the opportunities that AI presents while also being mindful of the ethical considerations involved.\n",
      "\n",
      "Target Audience:\n",
      "Our target audience includes tech enthusiasts, industry professionals, and decision-makers looking to stay ahead of the curve in AI advancements. They are interested in learning about the latest trends and key players in the AI space, as well as understanding the impact of AI on their respective industries.\n",
      "\n",
      "SEO Keywords:\n",
      "- Artificial Intelligence trends\n",
      "- Key players in AI\n",
      "- Latest news on AI\n",
      "- Machine learning advancements\n",
      "- AI ethics implications\n",
      "\n",
      "Resources:\n",
      "1. Forbes - \"Top AI Trends to Watch in 2021\"\n",
      "2. TechCrunch - \"The Rise of AI Ethics in Tech\"\n",
      "3. MIT Technology Review - \"The Future of AI: Key Players and Innovations\"\n",
      "\n",
      "By incorporating these elements into our blog article, we aim to provide valuable and engaging content on Artificial Intelligence that educates and empowers our audience to make informed decisions in the ever-evolving AI landscape.\u001b[0m\n",
      "\n",
      "\u001b[1m> Finished chain.\u001b[0m\n",
      "\u001b[1m\u001b[92m [DEBUG]: == [Content Planner] Task output: Title: The Future of Artificial Intelligence: Latest Trends, Key Players, and Noteworthy News\n",
      "\n",
      "Introduction:\n",
      "Artificial Intelligence (AI) is revolutionizing industries and shaping our future in ways we never thought possible. In this blog article, we will delve into the latest trends, key players, and noteworthy news surrounding AI to provide valuable insights for our audience.\n",
      "\n",
      "Key Points:\n",
      "1. Latest Trends in AI:\n",
      "- Machine Learning: The rapid advancements in machine learning algorithms are driving innovation in AI applications across various sectors.\n",
      "- Natural Language Processing (NLP): NLP technology is enabling machines to understand and generate human language, leading to breakthroughs in chatbots and virtual assistants.\n",
      "- AI Ethics: The ethical implications of AI are gaining more attention, with discussions on bias, privacy, and transparency becoming crucial in AI development.\n",
      "- Autonomous Vehicles: The development of self-driving cars is a hot topic in the AI space, with major players like Tesla, Waymo, and Uber investing heavily in this technology.\n",
      "\n",
      "2. Key Players in AI:\n",
      "- Google: Google's AI research division, DeepMind, is making significant strides in AI research and development.\n",
      "- Amazon: Amazon's AI-powered personal assistant, Alexa, is leading the market in smart home devices.\n",
      "- IBM: IBM's Watson AI platform is revolutionizing industries with its cognitive computing capabilities.\n",
      "\n",
      "3. Noteworthy News in AI:\n",
      "- OpenAI's GPT-3: OpenAI's GPT-3 model has garnered attention for its ability to generate human-like text, raising questions about the future of AI-generated content.\n",
      "- Microsoft's Acquisition of Nuance: Microsoft's recent acquisition of Nuance Communications, a leader in conversational AI, highlights the growing importance of AI in healthcare.\n",
      "\n",
      "Call to Action:\n",
      "Stay informed and engaged with the latest developments in AI by following reputable sources and staying connected with industry leaders. Embrace the opportunities that AI presents while also being mindful of the ethical considerations involved.\n",
      "\n",
      "Target Audience:\n",
      "Our target audience includes tech enthusiasts, industry professionals, and decision-makers looking to stay ahead of the curve in AI advancements. They are interested in learning about the latest trends and key players in the AI space, as well as understanding the impact of AI on their respective industries.\n",
      "\n",
      "SEO Keywords:\n",
      "- Artificial Intelligence trends\n",
      "- Key players in AI\n",
      "- Latest news on AI\n",
      "- Machine learning advancements\n",
      "- AI ethics implications\n",
      "\n",
      "Resources:\n",
      "1. Forbes - \"Top AI Trends to Watch in 2021\"\n",
      "2. TechCrunch - \"The Rise of AI Ethics in Tech\"\n",
      "3. MIT Technology Review - \"The Future of AI: Key Players and Innovations\"\n",
      "\n",
      "By incorporating these elements into our blog article, we aim to provide valuable and engaging content on Artificial Intelligence that educates and empowers our audience to make informed decisions in the ever-evolving AI landscape.\n",
      "\n",
      "\u001b[00m\n",
      "\u001b[1m\u001b[95m [DEBUG]: == Working Agent: Content Writer\u001b[00m\n",
      "\u001b[1m\u001b[95m [INFO]: == Starting Task: 1. Use the content plan to craft a compelling blog post on Artificial Intelligence.\n",
      "2. Incorporate SEO keywords naturally.\n",
      "3. Sections/Subtitles are properly named in an engaging manner.\n",
      "4. Ensure the post is structured with an engaging introduction, insightful body, and a summarizing conclusion.\n",
      "5. Proofread for grammatical errors and alignment with the brand's voice.\n",
      "\u001b[00m\n",
      "\n",
      "\n",
      "\u001b[1m> Entering new CrewAgentExecutor chain...\u001b[0m\n",
      "\u001b[32;1m\u001b[1;3mI now have all the information I need to craft a compelling and informative blog post on Artificial Intelligence.\n",
      "\n",
      "Final Answer:\n",
      "\n",
      "# The Future of Artificial Intelligence: Latest Trends, Key Players, and Noteworthy News\n",
      "\n",
      "Artificial Intelligence (AI) has become a driving force in revolutionizing industries and shaping the future in ways we never thought possible. In this blog article, we will explore the latest trends, key players, and noteworthy news surrounding AI to provide valuable insights for our audience.\n",
      "\n",
      "## Latest Trends in AI\n",
      "\n",
      "**Machine Learning**: The rapid advancements in machine learning algorithms are fueling innovation in AI applications across various sectors. From personalized recommendations to fraud detection, machine learning is at the forefront of AI development.\n",
      "\n",
      "**Natural Language Processing (NLP)**: NLP technology is enabling machines to understand and generate human language, leading to breakthroughs in chatbots and virtual assistants. This technology has transformed the way we interact with machines and has opened up new possibilities for AI applications.\n",
      "\n",
      "**AI Ethics**: The ethical implications of AI are gaining more attention, with discussions on bias, privacy, and transparency becoming crucial in AI development. As AI becomes more integrated into our daily lives, it is essential to address these ethical considerations to ensure responsible and fair implementation.\n",
      "\n",
      "**Autonomous Vehicles**: The development of self-driving cars is a hot topic in the AI space, with major players like Tesla, Waymo, and Uber investing heavily in this technology. The potential for autonomous vehicles to revolutionize transportation is immense, but challenges such as safety and regulation still need to be addressed.\n",
      "\n",
      "## Key Players in AI\n",
      "\n",
      "**Google**: Google's AI research division, DeepMind, is making significant strides in AI research and development. From AlphaGo to language translation, Google's AI initiatives are pushing the boundaries of what AI can achieve.\n",
      "\n",
      "**Amazon**: Amazon's AI-powered personal assistant, Alexa, is leading the market in smart home devices. With a focus on natural language understanding and personalized recommendations, Alexa has become an integral part of many households.\n",
      "\n",
      "**IBM**: IBM's Watson AI platform is revolutionizing industries with its cognitive computing capabilities. From healthcare to finance, Watson is helping businesses make better decisions and improve efficiency through AI-powered insights.\n",
      "\n",
      "## Noteworthy News in AI\n",
      "\n",
      "**OpenAI's GPT-3**: OpenAI's GPT-3 model has garnered attention for its ability to generate human-like text, raising questions about the future of AI-generated content. As AI continues to advance, the implications of AI-generated content on creativity and authenticity are worth exploring.\n",
      "\n",
      "**Microsoft's Acquisition of Nuance**: Microsoft's recent acquisition of Nuance Communications, a leader in conversational AI, highlights the growing importance of AI in healthcare. The integration of AI technologies in healthcare has the potential to transform patient care and improve outcomes.\n",
      "\n",
      "## Conclusion\n",
      "\n",
      "Artificial Intelligence is reshaping industries and transforming the way we live and work. By staying informed and engaged with the latest developments in AI, we can embrace the opportunities that AI presents while also being mindful of the ethical considerations involved. As AI continues to evolve, it is crucial for industry professionals and decision-makers to stay ahead of the curve and understand the impact of AI on their respective fields.\n",
      "\n",
      "**Call to Action**: Stay informed and engaged with the latest developments in AI by following reputable sources and staying connected with industry leaders. Embrace the opportunities that AI presents while also being mindful of the ethical considerations involved.\n",
      "\n",
      "Our target audience includes tech enthusiasts, industry professionals, and decision-makers looking to stay ahead of the curve in AI advancements. By providing valuable insights on the latest trends, key players, and noteworthy news in the AI space, we aim to educate and empower our audience to make informed decisions in the ever-evolving AI landscape.\n",
      "\n",
      "By incorporating SEO keywords such as \"Artificial Intelligence trends,\" \"Key players in AI,\" \"Latest news on AI,\" \"Machine learning advancements,\" and \"AI ethics implications,\" we aim to reach a wider audience interested in learning about AI developments.\n",
      "\n",
      "In conclusion, Artificial Intelligence is a transformative technology that has the potential to revolutionize industries and improve our daily lives. By staying informed and engaged with the latest trends and developments in AI, we can harness the power of AI to drive innovation and create a better future for all.\n",
      "\n",
      "Now, this blog post is ready for publication, providing valuable insights and engaging content on Artificial Intelligence for our audience.\u001b[0m\n",
      "\n",
      "\u001b[1m> Finished chain.\u001b[0m\n",
      "\u001b[1m\u001b[92m [DEBUG]: == [Content Writer] Task output: # The Future of Artificial Intelligence: Latest Trends, Key Players, and Noteworthy News\n",
      "\n",
      "Artificial Intelligence (AI) has become a driving force in revolutionizing industries and shaping the future in ways we never thought possible. In this blog article, we will explore the latest trends, key players, and noteworthy news surrounding AI to provide valuable insights for our audience.\n",
      "\n",
      "## Latest Trends in AI\n",
      "\n",
      "**Machine Learning**: The rapid advancements in machine learning algorithms are fueling innovation in AI applications across various sectors. From personalized recommendations to fraud detection, machine learning is at the forefront of AI development.\n",
      "\n",
      "**Natural Language Processing (NLP)**: NLP technology is enabling machines to understand and generate human language, leading to breakthroughs in chatbots and virtual assistants. This technology has transformed the way we interact with machines and has opened up new possibilities for AI applications.\n",
      "\n",
      "**AI Ethics**: The ethical implications of AI are gaining more attention, with discussions on bias, privacy, and transparency becoming crucial in AI development. As AI becomes more integrated into our daily lives, it is essential to address these ethical considerations to ensure responsible and fair implementation.\n",
      "\n",
      "**Autonomous Vehicles**: The development of self-driving cars is a hot topic in the AI space, with major players like Tesla, Waymo, and Uber investing heavily in this technology. The potential for autonomous vehicles to revolutionize transportation is immense, but challenges such as safety and regulation still need to be addressed.\n",
      "\n",
      "## Key Players in AI\n",
      "\n",
      "**Google**: Google's AI research division, DeepMind, is making significant strides in AI research and development. From AlphaGo to language translation, Google's AI initiatives are pushing the boundaries of what AI can achieve.\n",
      "\n",
      "**Amazon**: Amazon's AI-powered personal assistant, Alexa, is leading the market in smart home devices. With a focus on natural language understanding and personalized recommendations, Alexa has become an integral part of many households.\n",
      "\n",
      "**IBM**: IBM's Watson AI platform is revolutionizing industries with its cognitive computing capabilities. From healthcare to finance, Watson is helping businesses make better decisions and improve efficiency through AI-powered insights.\n",
      "\n",
      "## Noteworthy News in AI\n",
      "\n",
      "**OpenAI's GPT-3**: OpenAI's GPT-3 model has garnered attention for its ability to generate human-like text, raising questions about the future of AI-generated content. As AI continues to advance, the implications of AI-generated content on creativity and authenticity are worth exploring.\n",
      "\n",
      "**Microsoft's Acquisition of Nuance**: Microsoft's recent acquisition of Nuance Communications, a leader in conversational AI, highlights the growing importance of AI in healthcare. The integration of AI technologies in healthcare has the potential to transform patient care and improve outcomes.\n",
      "\n",
      "## Conclusion\n",
      "\n",
      "Artificial Intelligence is reshaping industries and transforming the way we live and work. By staying informed and engaged with the latest developments in AI, we can embrace the opportunities that AI presents while also being mindful of the ethical considerations involved. As AI continues to evolve, it is crucial for industry professionals and decision-makers to stay ahead of the curve and understand the impact of AI on their respective fields.\n",
      "\n",
      "**Call to Action**: Stay informed and engaged with the latest developments in AI by following reputable sources and staying connected with industry leaders. Embrace the opportunities that AI presents while also being mindful of the ethical considerations involved.\n",
      "\n",
      "Our target audience includes tech enthusiasts, industry professionals, and decision-makers looking to stay ahead of the curve in AI advancements. By providing valuable insights on the latest trends, key players, and noteworthy news in the AI space, we aim to educate and empower our audience to make informed decisions in the ever-evolving AI landscape.\n",
      "\n",
      "By incorporating SEO keywords such as \"Artificial Intelligence trends,\" \"Key players in AI,\" \"Latest news on AI,\" \"Machine learning advancements,\" and \"AI ethics implications,\" we aim to reach a wider audience interested in learning about AI developments.\n",
      "\n",
      "In conclusion, Artificial Intelligence is a transformative technology that has the potential to revolutionize industries and improve our daily lives. By staying informed and engaged with the latest trends and developments in AI, we can harness the power of AI to drive innovation and create a better future for all.\n",
      "\n",
      "Now, this blog post is ready for publication, providing valuable insights and engaging content on Artificial Intelligence for our audience.\n",
      "\n",
      "\u001b[00m\n",
      "\u001b[1m\u001b[95m [DEBUG]: == Working Agent: Editor\u001b[00m\n",
      "\u001b[1m\u001b[95m [INFO]: == Starting Task: Proofread the given blog post for grammatical errors and alignment with the brand's voice.\u001b[00m\n",
      "\n",
      "\n",
      "\u001b[1m> Entering new CrewAgentExecutor chain...\u001b[0m\n"
     ]
    },
    {
     "name": "stdout",
     "output_type": "stream",
     "text": [
      "\u001b[32;1m\u001b[1;3mI now can give a great answer\n",
      "\n",
      "Final Answer: \n",
      "\n",
      "# The Future of Artificial Intelligence: Latest Trends, Key Players, and Noteworthy News\n",
      "\n",
      "Artificial Intelligence (AI) continues to be at the forefront of technological innovation, shaping industries and revolutionizing the way we live and work. In this blog post, we delve into the latest trends, key players, and noteworthy news in the AI landscape to provide valuable insights to our audience.\n",
      "\n",
      "## Latest Trends in AI\n",
      "\n",
      "**Machine Learning** remains a key driver of AI advancements, with continuous improvements in algorithms leading to innovative applications in various sectors. From personalized recommendations to fraud detection, machine learning is paving the way for groundbreaking developments in AI technology.\n",
      "\n",
      "**Natural Language Processing (NLP)** is another pivotal trend in AI, empowering machines to comprehend and generate human language. This has led to significant breakthroughs in chatbots and virtual assistants, reshaping how we interact with technology and opening up new possibilities for AI integration.\n",
      "\n",
      "**AI Ethics** is a growing concern as AI becomes more prevalent in our daily lives. Discussions surrounding bias, privacy, and transparency are crucial as we navigate the ethical implications of AI development. Addressing these considerations is essential to ensure responsible and fair implementation of AI technologies.\n",
      "\n",
      "**Autonomous Vehicles** have emerged as a prominent topic in the AI space, with major players like Tesla, Waymo, and Uber investing heavily in self-driving car technology. While the potential for autonomous vehicles to revolutionize transportation is vast, challenges related to safety and regulation must be carefully addressed for widespread adoption.\n",
      "\n",
      "## Key Players in AI\n",
      "\n",
      "**Google** stands out with its AI research division, DeepMind, making significant strides in AI research and development. From AlphaGo to language translation, Google's AI initiatives are pushing the boundaries of what AI can achieve and driving innovation across various domains.\n",
      "\n",
      "**Amazon** has made a mark in the AI space with its AI-powered personal assistant, Alexa, leading the market in smart home devices. With a focus on natural language understanding and personalized recommendations, Alexa has become an indispensable part of many households, showcasing the potential of AI in enhancing daily experiences.\n",
      "\n",
      "**IBM** is revolutionizing industries with its Watson AI platform, offering cognitive computing capabilities that help businesses make informed decisions and enhance efficiency. From healthcare to finance, Watson is empowering organizations to leverage AI-powered insights for transformative outcomes.\n",
      "\n",
      "## Noteworthy News in AI\n",
      "\n",
      "**OpenAI's GPT-3** has garnered attention for its ability to generate human-like text, sparking discussions on the future of AI-generated content. As AI advances, exploring the implications of AI-generated content on creativity and authenticity becomes crucial for understanding the evolving landscape of AI technology.\n",
      "\n",
      "**Microsoft's Acquisition of Nuance** underscores the growing significance of AI in healthcare, with the integration of conversational AI technologies poised to revolutionize patient care and outcomes. Microsoft's strategic move highlights the transformative potential of AI in improving healthcare delivery and enhancing patient experiences.\n",
      "\n",
      "## Conclusion\n",
      "\n",
      "Artificial Intelligence is a dynamic force reshaping industries and redefining the way we interact with technology. By staying informed and engaged with the latest AI developments, we can harness the transformative power of AI while remaining mindful of ethical considerations. As AI continues to evolve, it is imperative for professionals and decision-makers to stay informed and proactive in navigating the evolving AI landscape.\n",
      "\n",
      "**Call to Action**: Stay informed and engaged with the latest AI trends and developments by following reputable sources and connecting with industry leaders. Embrace the opportunities that AI offers while upholding ethical standards for responsible AI integration.\n",
      "\n",
      "Our target audience, comprising tech enthusiasts, industry professionals, and decision-makers, can benefit from the insights provided on AI trends, key players, and noteworthy news in this blog post. By offering valuable perspectives on the evolving AI landscape, we aim to empower our audience to make informed decisions in the ever-evolving realm of AI technology.\n",
      "\n",
      "Incorporating SEO keywords such as \"Artificial Intelligence trends,\" \"Key players in AI,\" \"Latest news on AI,\" \"Machine learning advancements,\" and \"AI ethics implications\" enables us to reach a wider audience interested in staying abreast of AI developments.\n",
      "\n",
      "In conclusion, Artificial Intelligence holds immense potential to drive innovation and enhance our lives. By engaging with the latest AI trends and advancements, we can leverage the power of AI to create a brighter future for all. This blog post serves as a valuable resource for understanding the evolving AI landscape and its impact on various industries.\n",
      "\n",
      "This revised blog post is now aligned with the brand's voice and ready for publication, providing comprehensive insights and engaging content on the future of Artificial Intelligence.\u001b[0m\n",
      "\n",
      "\u001b[1m> Finished chain.\u001b[0m\n",
      "\u001b[1m\u001b[92m [DEBUG]: == [Editor] Task output: # The Future of Artificial Intelligence: Latest Trends, Key Players, and Noteworthy News\n",
      "\n",
      "Artificial Intelligence (AI) continues to be at the forefront of technological innovation, shaping industries and revolutionizing the way we live and work. In this blog post, we delve into the latest trends, key players, and noteworthy news in the AI landscape to provide valuable insights to our audience.\n",
      "\n",
      "## Latest Trends in AI\n",
      "\n",
      "**Machine Learning** remains a key driver of AI advancements, with continuous improvements in algorithms leading to innovative applications in various sectors. From personalized recommendations to fraud detection, machine learning is paving the way for groundbreaking developments in AI technology.\n",
      "\n",
      "**Natural Language Processing (NLP)** is another pivotal trend in AI, empowering machines to comprehend and generate human language. This has led to significant breakthroughs in chatbots and virtual assistants, reshaping how we interact with technology and opening up new possibilities for AI integration.\n",
      "\n",
      "**AI Ethics** is a growing concern as AI becomes more prevalent in our daily lives. Discussions surrounding bias, privacy, and transparency are crucial as we navigate the ethical implications of AI development. Addressing these considerations is essential to ensure responsible and fair implementation of AI technologies.\n",
      "\n",
      "**Autonomous Vehicles** have emerged as a prominent topic in the AI space, with major players like Tesla, Waymo, and Uber investing heavily in self-driving car technology. While the potential for autonomous vehicles to revolutionize transportation is vast, challenges related to safety and regulation must be carefully addressed for widespread adoption.\n",
      "\n",
      "## Key Players in AI\n",
      "\n",
      "**Google** stands out with its AI research division, DeepMind, making significant strides in AI research and development. From AlphaGo to language translation, Google's AI initiatives are pushing the boundaries of what AI can achieve and driving innovation across various domains.\n",
      "\n",
      "**Amazon** has made a mark in the AI space with its AI-powered personal assistant, Alexa, leading the market in smart home devices. With a focus on natural language understanding and personalized recommendations, Alexa has become an indispensable part of many households, showcasing the potential of AI in enhancing daily experiences.\n",
      "\n",
      "**IBM** is revolutionizing industries with its Watson AI platform, offering cognitive computing capabilities that help businesses make informed decisions and enhance efficiency. From healthcare to finance, Watson is empowering organizations to leverage AI-powered insights for transformative outcomes.\n",
      "\n",
      "## Noteworthy News in AI\n",
      "\n",
      "**OpenAI's GPT-3** has garnered attention for its ability to generate human-like text, sparking discussions on the future of AI-generated content. As AI advances, exploring the implications of AI-generated content on creativity and authenticity becomes crucial for understanding the evolving landscape of AI technology.\n",
      "\n",
      "**Microsoft's Acquisition of Nuance** underscores the growing significance of AI in healthcare, with the integration of conversational AI technologies poised to revolutionize patient care and outcomes. Microsoft's strategic move highlights the transformative potential of AI in improving healthcare delivery and enhancing patient experiences.\n",
      "\n",
      "## Conclusion\n",
      "\n",
      "Artificial Intelligence is a dynamic force reshaping industries and redefining the way we interact with technology. By staying informed and engaged with the latest AI developments, we can harness the transformative power of AI while remaining mindful of ethical considerations. As AI continues to evolve, it is imperative for professionals and decision-makers to stay informed and proactive in navigating the evolving AI landscape.\n",
      "\n",
      "**Call to Action**: Stay informed and engaged with the latest AI trends and developments by following reputable sources and connecting with industry leaders. Embrace the opportunities that AI offers while upholding ethical standards for responsible AI integration.\n",
      "\n",
      "Our target audience, comprising tech enthusiasts, industry professionals, and decision-makers, can benefit from the insights provided on AI trends, key players, and noteworthy news in this blog post. By offering valuable perspectives on the evolving AI landscape, we aim to empower our audience to make informed decisions in the ever-evolving realm of AI technology.\n",
      "\n",
      "Incorporating SEO keywords such as \"Artificial Intelligence trends,\" \"Key players in AI,\" \"Latest news on AI,\" \"Machine learning advancements,\" and \"AI ethics implications\" enables us to reach a wider audience interested in staying abreast of AI developments.\n",
      "\n",
      "In conclusion, Artificial Intelligence holds immense potential to drive innovation and enhance our lives. By engaging with the latest AI trends and advancements, we can leverage the power of AI to create a brighter future for all. This blog post serves as a valuable resource for understanding the evolving AI landscape and its impact on various industries.\n",
      "\n",
      "This revised blog post is now aligned with the brand's voice and ready for publication, providing comprehensive insights and engaging content on the future of Artificial Intelligence.\n",
      "\n",
      "\u001b[00m\n"
     ]
    }
   ],
   "source": [
    "result = crew.kickoff(inputs={\"topic\": \"Artificial Intelligence\"})"
   ]
  },
  {
   "cell_type": "markdown",
   "metadata": {},
   "source": [
    "- Display the results of your execution as markdown in the notebook."
   ]
  },
  {
   "cell_type": "code",
   "execution_count": 12,
   "metadata": {
    "height": 47
   },
   "outputs": [
    {
     "data": {
      "text/markdown": [
       "# The Future of Artificial Intelligence: Latest Trends, Key Players, and Noteworthy News\n",
       "\n",
       "Artificial Intelligence (AI) continues to be at the forefront of technological innovation, shaping industries and revolutionizing the way we live and work. In this blog post, we delve into the latest trends, key players, and noteworthy news in the AI landscape to provide valuable insights to our audience.\n",
       "\n",
       "## Latest Trends in AI\n",
       "\n",
       "**Machine Learning** remains a key driver of AI advancements, with continuous improvements in algorithms leading to innovative applications in various sectors. From personalized recommendations to fraud detection, machine learning is paving the way for groundbreaking developments in AI technology.\n",
       "\n",
       "**Natural Language Processing (NLP)** is another pivotal trend in AI, empowering machines to comprehend and generate human language. This has led to significant breakthroughs in chatbots and virtual assistants, reshaping how we interact with technology and opening up new possibilities for AI integration.\n",
       "\n",
       "**AI Ethics** is a growing concern as AI becomes more prevalent in our daily lives. Discussions surrounding bias, privacy, and transparency are crucial as we navigate the ethical implications of AI development. Addressing these considerations is essential to ensure responsible and fair implementation of AI technologies.\n",
       "\n",
       "**Autonomous Vehicles** have emerged as a prominent topic in the AI space, with major players like Tesla, Waymo, and Uber investing heavily in self-driving car technology. While the potential for autonomous vehicles to revolutionize transportation is vast, challenges related to safety and regulation must be carefully addressed for widespread adoption.\n",
       "\n",
       "## Key Players in AI\n",
       "\n",
       "**Google** stands out with its AI research division, DeepMind, making significant strides in AI research and development. From AlphaGo to language translation, Google's AI initiatives are pushing the boundaries of what AI can achieve and driving innovation across various domains.\n",
       "\n",
       "**Amazon** has made a mark in the AI space with its AI-powered personal assistant, Alexa, leading the market in smart home devices. With a focus on natural language understanding and personalized recommendations, Alexa has become an indispensable part of many households, showcasing the potential of AI in enhancing daily experiences.\n",
       "\n",
       "**IBM** is revolutionizing industries with its Watson AI platform, offering cognitive computing capabilities that help businesses make informed decisions and enhance efficiency. From healthcare to finance, Watson is empowering organizations to leverage AI-powered insights for transformative outcomes.\n",
       "\n",
       "## Noteworthy News in AI\n",
       "\n",
       "**OpenAI's GPT-3** has garnered attention for its ability to generate human-like text, sparking discussions on the future of AI-generated content. As AI advances, exploring the implications of AI-generated content on creativity and authenticity becomes crucial for understanding the evolving landscape of AI technology.\n",
       "\n",
       "**Microsoft's Acquisition of Nuance** underscores the growing significance of AI in healthcare, with the integration of conversational AI technologies poised to revolutionize patient care and outcomes. Microsoft's strategic move highlights the transformative potential of AI in improving healthcare delivery and enhancing patient experiences.\n",
       "\n",
       "## Conclusion\n",
       "\n",
       "Artificial Intelligence is a dynamic force reshaping industries and redefining the way we interact with technology. By staying informed and engaged with the latest AI developments, we can harness the transformative power of AI while remaining mindful of ethical considerations. As AI continues to evolve, it is imperative for professionals and decision-makers to stay informed and proactive in navigating the evolving AI landscape.\n",
       "\n",
       "**Call to Action**: Stay informed and engaged with the latest AI trends and developments by following reputable sources and connecting with industry leaders. Embrace the opportunities that AI offers while upholding ethical standards for responsible AI integration.\n",
       "\n",
       "Our target audience, comprising tech enthusiasts, industry professionals, and decision-makers, can benefit from the insights provided on AI trends, key players, and noteworthy news in this blog post. By offering valuable perspectives on the evolving AI landscape, we aim to empower our audience to make informed decisions in the ever-evolving realm of AI technology.\n",
       "\n",
       "Incorporating SEO keywords such as \"Artificial Intelligence trends,\" \"Key players in AI,\" \"Latest news on AI,\" \"Machine learning advancements,\" and \"AI ethics implications\" enables us to reach a wider audience interested in staying abreast of AI developments.\n",
       "\n",
       "In conclusion, Artificial Intelligence holds immense potential to drive innovation and enhance our lives. By engaging with the latest AI trends and advancements, we can leverage the power of AI to create a brighter future for all. This blog post serves as a valuable resource for understanding the evolving AI landscape and its impact on various industries.\n",
       "\n",
       "This revised blog post is now aligned with the brand's voice and ready for publication, providing comprehensive insights and engaging content on the future of Artificial Intelligence."
      ],
      "text/plain": [
       "<IPython.core.display.Markdown object>"
      ]
     },
     "execution_count": 12,
     "metadata": {},
     "output_type": "execute_result"
    }
   ],
   "source": [
    "from IPython.display import Markdown\n",
    "Markdown(result)"
   ]
  },
  {
   "cell_type": "markdown",
   "metadata": {},
   "source": [
    "<a name='1'></a>\n",
    " ## Other Popular Models as LLM for your Agents"
   ]
  },
  {
   "cell_type": "markdown",
   "metadata": {},
   "source": [
    "#### Hugging Face (HuggingFaceHub endpoint)\n",
    "\n",
    "```Python\n",
    "from langchain_community.llms import HuggingFaceHub\n",
    "\n",
    "llm = HuggingFaceHub(\n",
    "    repo_id=\"HuggingFaceH4/zephyr-7b-beta\",\n",
    "    huggingfacehub_api_token=\"<HF_TOKEN_HERE>\",\n",
    "    task=\"text-generation\",\n",
    ")\n",
    "\n",
    "### you will pass \"llm\" to your agent function\n",
    "```"
   ]
  },
  {
   "cell_type": "markdown",
   "metadata": {},
   "source": [
    "#### Mistral API\n",
    "\n",
    "```Python\n",
    "OPENAI_API_KEY=your-mistral-api-key\n",
    "OPENAI_API_BASE=https://api.mistral.ai/v1\n",
    "OPENAI_MODEL_NAME=\"mistral-small\"\n",
    "```"
   ]
  },
  {
   "cell_type": "markdown",
   "metadata": {},
   "source": [
    "#### Cohere\n",
    "\n",
    "```Python\n",
    "from langchain_community.chat_models import ChatCohere\n",
    "# Initialize language model\n",
    "os.environ[\"COHERE_API_KEY\"] = \"your-cohere-api-key\"\n",
    "llm = ChatCohere()\n",
    "\n",
    "### you will pass \"llm\" to your agent function\n",
    "```"
   ]
  },
  {
   "cell_type": "markdown",
   "metadata": {},
   "source": [
    "### For using Llama locally with Ollama and more, checkout the crewAI documentation on [Connecting to any LLM](https://docs.crewai.com/how-to/LLM-Connections/)."
   ]
  },
  {
   "cell_type": "code",
   "execution_count": null,
   "metadata": {
    "height": 30
   },
   "outputs": [],
   "source": []
  },
  {
   "cell_type": "code",
   "execution_count": null,
   "metadata": {
    "height": 30
   },
   "outputs": [],
   "source": []
  },
  {
   "cell_type": "code",
   "execution_count": null,
   "metadata": {
    "height": 30
   },
   "outputs": [],
   "source": []
  }
 ],
 "metadata": {
  "colab": {
   "gpuType": "T4",
   "provenance": []
  },
  "kernelspec": {
   "display_name": "Python 3 (ipykernel)",
   "language": "python",
   "name": "python3"
  },
  "language_info": {
   "codemirror_mode": {
    "name": "ipython",
    "version": 3
   },
   "file_extension": ".py",
   "mimetype": "text/x-python",
   "name": "python",
   "nbconvert_exporter": "python",
   "pygments_lexer": "ipython3",
   "version": "3.11.9"
  }
 },
 "nbformat": 4,
 "nbformat_minor": 4
}
